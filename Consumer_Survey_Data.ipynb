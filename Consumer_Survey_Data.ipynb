{
  "nbformat": 4,
  "nbformat_minor": 0,
  "metadata": {
    "colab": {
      "provenance": [],
      "authorship_tag": "ABX9TyPIWHodnQ3ahhoUe8nMmnjJ",
      "include_colab_link": true
    },
    "kernelspec": {
      "name": "python3",
      "display_name": "Python 3"
    },
    "language_info": {
      "name": "python"
    }
  },
  "cells": [
    {
      "cell_type": "markdown",
      "metadata": {
        "id": "view-in-github",
        "colab_type": "text"
      },
      "source": [
        "<a href=\"https://colab.research.google.com/github/scarlettjm/Sustainability_in_Style/blob/main/Consumer_Survey_Data.ipynb\" target=\"_parent\"><img src=\"https://colab.research.google.com/assets/colab-badge.svg\" alt=\"Open In Colab\"/></a>"
      ]
    },
    {
      "cell_type": "markdown",
      "source": [
        "### Analysis of Consumer Sentiment on Sustainable Fashion\n",
        "---\n",
        "\n",
        "This script performs a comprehensive analysis of consumer sentiment toward sustainable fashion using survey data. It begins by loading and cleaning the dataset, converting relevant columns to numeric values. The script then calculates descriptive statistics for willingness to pay (WTP) across different sustainability features and examines correlations between WTP and pro-environmental attitudes (e.g., recycling, second-hand clothing). It visualizes the top correlations and the primary barriers consumers face when adopting sustainable fashion."
      ],
      "metadata": {
        "id": "yJwq8eYEOTah"
      }
    },
    {
      "cell_type": "code",
      "execution_count": null,
      "metadata": {
        "id": "K3SBV5l5NPzR"
      },
      "outputs": [],
      "source": [
        "import pandas as pd\n",
        "import matplotlib.pyplot as plt\n",
        "import seaborn as sns\n",
        "import scipy.stats as stats\n",
        "\n",
        "#Load dataset\n",
        "df_survey = pd.read_excel(\"consumersurvey.xlsx\", sheet_name=\"Sheet1\")  # Consumer survey data\n",
        "\n",
        "#Convert relevant columns to numeric\n",
        "wtp_columns = ['wtp_new', 'wtp_second', 'wtp_bio', 'wtp_recycle', 'wtp_workers']\n",
        "df_survey[wtp_columns] = df_survey[wtp_columns].apply(pd.to_numeric, errors='coerce')\n",
        "\n",
        "#Descriptive Statistics: Willingness to Pay (WTP)\n",
        "print(\"Willingness to Pay Summary:\\n\", df_survey[wtp_columns].describe())\n",
        "\n",
        "#Correlation Analysis: WTP vs. Environmental Attitudes\n",
        "env_columns = ['pro_recycle', 'pro_label', 'pro_packaging', 'pro_pub_transport', 'pro_second_clothes']\n",
        "df_survey[env_columns] = df_survey[env_columns].apply(lambda x: pd.factorize(x)[0])  # Convert categorical to numeric\n",
        "\n",
        "correlation_wtp_env = df_survey[wtp_columns + env_columns].corr()\n",
        "print(\"Correlation: WTP vs. Environmental Attitudes:\\n\", correlation_wtp_env)\n",
        "\n",
        "#Plot: Top Correlations\n",
        "top_correlations = correlation_wtp_env.loc[wtp_columns, env_columns].abs().unstack().sort_values(ascending=False).head(10)\n",
        "\n",
        "plt.figure(figsize=(10, 6))\n",
        "sns.barplot(x=top_correlations.values, y=top_correlations.index.map(lambda x: f\"{x[0]} vs. {x[1]}\"), palette=\"coolwarm\")\n",
        "plt.xlabel(\"Correlation Coefficient\")\n",
        "plt.ylabel(\"Variable Pair\")\n",
        "plt.title(\"Top Correlations: Willingness to Pay vs. Environmental Attitudes\")\n",
        "plt.show()\n",
        "\n",
        "#Barriers to Sustainable Fashion Adoption\n",
        "barrier_columns = ['no_second_quality', 'no_second_clean', 'no_second_size', 'no_second_fashion',\n",
        "                   'no_bio_expensive', 'no_bio_shop', 'no_bio_quality', 'no_bio_style']\n",
        "df_survey[barrier_columns] = df_survey[barrier_columns].apply(lambda x: pd.factorize(x)[0])\n",
        "\n",
        "barrier_means = df_survey[barrier_columns].mean().sort_values(ascending=False)\n",
        "print(\"Barriers to Sustainable Fashion:\\n\", barrier_means)\n",
        "\n",
        "#Plot: Top Barriers\n",
        "plt.figure(figsize=(10, 6))\n",
        "sns.barplot(x=barrier_means.values, y=barrier_means.index, palette=\"Reds_r\")\n",
        "plt.xlabel(\"Average Importance Score\")\n",
        "plt.ylabel(\"Barrier\")\n",
        "plt.title(\"Top Barriers to Sustainable Fashion Adoption\")\n",
        "plt.show()\n"
      ]
    }
  ]
}