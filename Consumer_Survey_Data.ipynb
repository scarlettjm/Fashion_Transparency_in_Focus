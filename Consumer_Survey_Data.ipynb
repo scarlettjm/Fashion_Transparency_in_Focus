{
  "nbformat": 4,
  "nbformat_minor": 0,
  "metadata": {
    "colab": {
      "provenance": [],
      "authorship_tag": "ABX9TyNkN2cpSakSo3UCKGXLw1oB",
      "include_colab_link": true
    },
    "kernelspec": {
      "name": "python3",
      "display_name": "Python 3"
    },
    "language_info": {
      "name": "python"
    }
  },
  "cells": [
    {
      "cell_type": "markdown",
      "metadata": {
        "id": "view-in-github",
        "colab_type": "text"
      },
      "source": [
        "<a href=\"https://colab.research.google.com/github/scarlettjm/Fashion_Transparency_in_Focus/blob/main/Consumer_Survey_Data.ipynb\" target=\"_parent\"><img src=\"https://colab.research.google.com/assets/colab-badge.svg\" alt=\"Open In Colab\"/></a>"
      ]
    },
    {
      "cell_type": "markdown",
      "source": [
        "# Analysis of Consumer Sentiment on Sustainable Fashion\n",
        "---\n",
        "\n",
        "This analysis explores how consumers feel about sustainable fashion and what influences their behavior. Using survey data, we investigate:\n",
        "\n",
        "*   Descriptive statistics for Willingness to Pay (WTP) for sustainable options\n",
        "\n",
        "*   Correlations between WTP and pro-environmental attitudes (e.g., recycling, secondhand clothing)\n",
        "\n",
        "* The most common barriers preventing sustainable fashion purchases\n",
        "\n",
        "Pandas, seaborn, and matplotlib have been used to clean, analyze, and visualize the data."
      ],
      "metadata": {
        "id": "yJwq8eYEOTah"
      }
    },
    {
      "cell_type": "markdown",
      "source": [
        "# Load and Clean Data\n",
        "\n",
        "\n",
        "---\n",
        "\n"
      ],
      "metadata": {
        "id": "zif023e8hMEJ"
      }
    },
    {
      "cell_type": "code",
      "source": [
        "import pandas as pd\n",
        "import matplotlib.pyplot as plt\n",
        "import seaborn as sns\n",
        "import scipy.stats as stats\n",
        "\n",
        "#Load dataset\n",
        "df_survey = pd.read_excel(\"consumersurvey.xlsx\", sheet_name=\"Sheet1\")  # Consumer survey data\n",
        "\n",
        "#Convert WTP columns to numeric\n",
        "wtp_columns = ['wtp_new', 'wtp_second', 'wtp_bio', 'wtp_recycle', 'wtp_workers']\n",
        "df_survey[wtp_columns] = df_survey[wtp_columns].apply(pd.to_numeric, errors='coerce')"
      ],
      "metadata": {
        "id": "SVlGfo6AhXLX"
      },
      "execution_count": null,
      "outputs": []
    },
    {
      "cell_type": "markdown",
      "source": [
        "# Willingness to Pay Summary\n",
        "\n",
        "\n",
        "---\n",
        "\n"
      ],
      "metadata": {
        "id": "DkTL9Ow8hg1V"
      }
    },
    {
      "cell_type": "code",
      "source": [
        "#Descriptive statistics for WTP\n",
        "print(\"Willingness to Pay Summary:\\n\", df_survey[wtp_columns].describe())"
      ],
      "metadata": {
        "id": "vGKmqDtHhjU8"
      },
      "execution_count": null,
      "outputs": []
    },
    {
      "cell_type": "markdown",
      "source": [
        "#Correlation Between WTP & Environmental Values\n",
        "\n",
        "\n",
        "---\n",
        "\n"
      ],
      "metadata": {
        "id": "sxksHqR2h8qR"
      }
    },
    {
      "cell_type": "code",
      "source": [
        "#Environmental attitude columns\n",
        "env_columns = ['pro_recycle', 'pro_label', 'pro_packaging', 'pro_pub_transport', 'pro_second_clothes']\n",
        "\n",
        "#Factorize categorical values to numeric\n",
        "df_survey[env_columns] = df_survey[env_columns].apply(lambda x: pd.factorize(x)[0])\n",
        "\n",
        "#Correlation matrix\n",
        "correlation_wtp_env = df_survey[wtp_columns + env_columns].corr()\n",
        "\n",
        "print(\"Correlation: WTP vs. Environmental Attitudes:\\n\", correlation_wtp_env)"
      ],
      "metadata": {
        "id": "4HFKfJeIh8K6"
      },
      "execution_count": null,
      "outputs": []
    },
    {
      "cell_type": "markdown",
      "source": [
        "#Visualize Top Correlations\n",
        "\n",
        "\n",
        "---\n",
        "\n"
      ],
      "metadata": {
        "id": "QG5afrpViSep"
      }
    },
    {
      "cell_type": "code",
      "source": [
        "#Top 10 strongest correlations (absolute value)\n",
        "top_correlations = correlation_wtp_env.loc[wtp_columns, env_columns].abs().unstack().sort_values(ascending=False).head(10)\n",
        "\n",
        "#Plot top correlations\n",
        "plt.figure(figsize=(10, 6))\n",
        "sns.barplot(\n",
        "    x=top_correlations.values,\n",
        "    y=top_correlations.index.map(lambda x: f\"{x[0]} vs. {x[1]}\"),\n",
        "    palette=\"coolwarm\"\n",
        ")\n",
        "plt.xlabel(\"Correlation Coefficient\")\n",
        "plt.ylabel(\"Variable Pair\")\n",
        "plt.title(\"Top Correlations: Willingness to Pay vs. Environmental Attitudes\")\n",
        "plt.tight_layout()\n",
        "plt.show()\n"
      ],
      "metadata": {
        "id": "wml96r_siaWz"
      },
      "execution_count": null,
      "outputs": []
    },
    {
      "cell_type": "markdown",
      "source": [
        "#Barriers to Sustainable Fashion Adoption\n",
        "\n",
        "\n",
        "---\n",
        "\n"
      ],
      "metadata": {
        "id": "tFLsIEYYijeH"
      }
    },
    {
      "cell_type": "code",
      "source": [
        "#Define barrier columns\n",
        "barrier_columns = [\n",
        "    'no_second_quality', 'no_second_clean', 'no_second_size', 'no_second_fashion',\n",
        "    'no_bio_expensive', 'no_bio_shop', 'no_bio_quality', 'no_bio_style'\n",
        "]\n",
        "\n",
        "#Convert to numeric\n",
        "df_survey[barrier_columns] = df_survey[barrier_columns].apply(lambda x: pd.factorize(x)[0])\n",
        "\n",
        "#Calculate means\n",
        "barrier_means = df_survey[barrier_columns].mean().sort_values(ascending=False)\n",
        "\n",
        "print(\"Barriers to Sustainable Fashion:\\n\", barrier_means)\n"
      ],
      "metadata": {
        "id": "Ql6bl46Gis1m"
      },
      "execution_count": null,
      "outputs": []
    },
    {
      "cell_type": "markdown",
      "source": [
        "#Visualize Top Barriers\n",
        "\n",
        "\n",
        "---\n",
        "\n"
      ],
      "metadata": {
        "id": "Prd6uU6AivxX"
      }
    },
    {
      "cell_type": "code",
      "source": [
        "plt.figure(figsize=(10, 6))\n",
        "sns.barplot(x=barrier_means.values, y=barrier_means.index, palette=\"Reds_r\")\n",
        "plt.xlabel(\"Average Importance Score\")\n",
        "plt.ylabel(\"Barrier\")\n",
        "plt.title(\"Top Barriers to Sustainable Fashion Adoption\")\n",
        "plt.tight_layout()\n",
        "plt.show()"
      ],
      "metadata": {
        "id": "H65eVir_i1u1"
      },
      "execution_count": null,
      "outputs": []
    },
    {
      "cell_type": "markdown",
      "source": [
        "#Conclusion\n",
        "\n",
        "\n",
        "---\n",
        "\n",
        "This analysis reveals strong links between environmental attitudes and sustainable shopping behavior, especially around WTP for secondhand and recyclable clothing. It also highlights practical barriers — like sizing, price, and quality — that slow adoption. These findings directly informed the final visual designs used in this project.\n"
      ],
      "metadata": {
        "id": "9HOzojWj85Or"
      }
    }
  ]
}